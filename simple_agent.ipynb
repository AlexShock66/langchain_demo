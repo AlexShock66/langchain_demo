{
 "cells": [
  {
   "cell_type": "markdown",
   "metadata": {},
   "source": [
    "# Langchain Demo\n",
    "\n",
    "## Introduction\n",
    "In this notebook, we will look at the basics of getting a langchain agent working and answering simple questions. It will take you through the process of setting up an LLM API access account for a free LLM endpoint, creating a sample agent, and asking the agent questions all through the use of `langchain`, a python library.\n",
    "\n",
    "Later notebooks in the series will cover topics such as adding context to the agents, creating teams of agents that can talk to eachother, fetching information from the web for agent context etc.\n",
    "\n",
    "## Environment Setup\n",
    "This notebook assumes you already have a python environment on your machine, if this is not the case, refer to `README.md` for instructions on how to get one setup locally. We also assume a basic knowledge of python and programming concepts. Once you have a python environment on your local machine, we need to install a couple of packages in order to use langchain. Run the below command in your terminal to install all the necessary packages:\n",
    "\n",
    "```\n",
    "pip install notebook langchain langchain-cohere\n",
    "```\n",
    "## Third Party Tools\n",
    "We will be utilizing Cohere models as they are free (with a rate limit). This allows us to play around in a sandbox without incurring charges like we would if we used something like OpenAI models. In order to get your cohere developer liscense, navigate the the following url [Cohere Dev Access](https://cohere.com/) and click Try Now! in the top right. Once you are signed in, navigate to the API Keys section on the left. Copy the default trial key and paste it into the .env file so we can use it to authenticate ourselves with Cohere's api."
   ]
  },
  {
   "cell_type": "markdown",
   "metadata": {},
   "source": []
  }
 ],
 "metadata": {
  "kernelspec": {
   "display_name": "langchain",
   "language": "python",
   "name": "python3"
  },
  "language_info": {
   "codemirror_mode": {
    "name": "ipython",
    "version": 3
   },
   "file_extension": ".py",
   "mimetype": "text/x-python",
   "name": "python",
   "nbconvert_exporter": "python",
   "pygments_lexer": "ipython3",
   "version": "3.10.14"
  }
 },
 "nbformat": 4,
 "nbformat_minor": 2
}
